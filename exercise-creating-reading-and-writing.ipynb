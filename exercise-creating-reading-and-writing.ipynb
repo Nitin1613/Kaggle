{
 "cells": [
  {
   "cell_type": "markdown",
   "id": "66370c9c",
   "metadata": {
    "papermill": {
     "duration": 0.006906,
     "end_time": "2023-03-26T07:19:32.309279",
     "exception": false,
     "start_time": "2023-03-26T07:19:32.302373",
     "status": "completed"
    },
    "tags": []
   },
   "source": [
    "**This notebook is an exercise in the [Pandas](https://www.kaggle.com/learn/pandas) course.  You can reference the tutorial at [this link](https://www.kaggle.com/residentmario/creating-reading-and-writing).**\n",
    "\n",
    "---\n"
   ]
  },
  {
   "cell_type": "markdown",
   "id": "39cec209",
   "metadata": {
    "papermill": {
     "duration": 0.005342,
     "end_time": "2023-03-26T07:19:32.320471",
     "exception": false,
     "start_time": "2023-03-26T07:19:32.315129",
     "status": "completed"
    },
    "tags": []
   },
   "source": [
    "# Introduction\n",
    "\n",
    "The first step in most data analytics projects is reading the data file. In this exercise, you'll create Series and DataFrame objects, both by hand and by reading data files.\n",
    "\n",
    "Run the code cell below to load libraries you will need (including code to check your answers)."
   ]
  },
  {
   "cell_type": "code",
   "execution_count": 1,
   "id": "1f24bc80",
   "metadata": {
    "execution": {
     "iopub.execute_input": "2023-03-26T07:19:32.334869Z",
     "iopub.status.busy": "2023-03-26T07:19:32.333739Z",
     "iopub.status.idle": "2023-03-26T07:19:33.910559Z",
     "shell.execute_reply": "2023-03-26T07:19:33.909200Z"
    },
    "papermill": {
     "duration": 1.587354,
     "end_time": "2023-03-26T07:19:33.913504",
     "exception": false,
     "start_time": "2023-03-26T07:19:32.326150",
     "status": "completed"
    },
    "tags": []
   },
   "outputs": [
    {
     "name": "stdout",
     "output_type": "stream",
     "text": [
      "Setup complete.\n"
     ]
    }
   ],
   "source": [
    "import pandas as pd\n",
    "pd.set_option('max_rows', 5)\n",
    "from learntools.core import binder; binder.bind(globals())\n",
    "from learntools.pandas.creating_reading_and_writing import *\n",
    "print(\"Setup complete.\")"
   ]
  },
  {
   "cell_type": "code",
   "execution_count": null,
   "id": "8320959e",
   "metadata": {
    "papermill": {
     "duration": 0.005507,
     "end_time": "2023-03-26T07:19:33.924851",
     "exception": false,
     "start_time": "2023-03-26T07:19:33.919344",
     "status": "completed"
    },
    "tags": []
   },
   "outputs": [],
   "source": []
  },
  {
   "cell_type": "markdown",
   "id": "89fb565f",
   "metadata": {
    "papermill": {
     "duration": 0.00559,
     "end_time": "2023-03-26T07:19:33.936308",
     "exception": false,
     "start_time": "2023-03-26T07:19:33.930718",
     "status": "completed"
    },
    "tags": []
   },
   "source": [
    "# Exercises"
   ]
  },
  {
   "cell_type": "markdown",
   "id": "a2c79664",
   "metadata": {
    "papermill": {
     "duration": 0.00544,
     "end_time": "2023-03-26T07:19:33.947520",
     "exception": false,
     "start_time": "2023-03-26T07:19:33.942080",
     "status": "completed"
    },
    "tags": []
   },
   "source": [
    "## 1.\n",
    "\n",
    "In the cell below, create a DataFrame `fruits` that looks like this:\n",
    "\n",
    "![](https://i.imgur.com/Ax3pp2A.png)"
   ]
  },
  {
   "cell_type": "code",
   "execution_count": 2,
   "id": "9050ab28",
   "metadata": {
    "execution": {
     "iopub.execute_input": "2023-03-26T07:19:33.962271Z",
     "iopub.status.busy": "2023-03-26T07:19:33.961752Z",
     "iopub.status.idle": "2023-03-26T07:19:33.984538Z",
     "shell.execute_reply": "2023-03-26T07:19:33.983143Z"
    },
    "papermill": {
     "duration": 0.033719,
     "end_time": "2023-03-26T07:19:33.987253",
     "exception": false,
     "start_time": "2023-03-26T07:19:33.953534",
     "status": "completed"
    },
    "tags": []
   },
   "outputs": [
    {
     "data": {
      "text/html": [
       "<div>\n",
       "<style scoped>\n",
       "    .dataframe tbody tr th:only-of-type {\n",
       "        vertical-align: middle;\n",
       "    }\n",
       "\n",
       "    .dataframe tbody tr th {\n",
       "        vertical-align: top;\n",
       "    }\n",
       "\n",
       "    .dataframe thead th {\n",
       "        text-align: right;\n",
       "    }\n",
       "</style>\n",
       "<table border=\"1\" class=\"dataframe\">\n",
       "  <thead>\n",
       "    <tr style=\"text-align: right;\">\n",
       "      <th></th>\n",
       "      <th>Apples</th>\n",
       "      <th>Bananas</th>\n",
       "    </tr>\n",
       "  </thead>\n",
       "  <tbody>\n",
       "    <tr>\n",
       "      <th>0</th>\n",
       "      <td>30</td>\n",
       "      <td>21</td>\n",
       "    </tr>\n",
       "  </tbody>\n",
       "</table>\n",
       "</div>"
      ],
      "text/plain": [
       "   Apples  Bananas\n",
       "0      30       21"
      ]
     },
     "execution_count": 2,
     "metadata": {},
     "output_type": "execute_result"
    }
   ],
   "source": [
    "# Your code goes here. Create a dataframe matching the above diagram and assign it to the variable fruits.\n",
    "fruits = pd.DataFrame({'Apples':[30],'Bananas':[21]})\n",
    "\n",
    "# Check your answer\n",
    "\n",
    "fruits"
   ]
  },
  {
   "cell_type": "code",
   "execution_count": 3,
   "id": "37641af0",
   "metadata": {
    "execution": {
     "iopub.execute_input": "2023-03-26T07:19:34.001699Z",
     "iopub.status.busy": "2023-03-26T07:19:34.001032Z",
     "iopub.status.idle": "2023-03-26T07:19:34.005772Z",
     "shell.execute_reply": "2023-03-26T07:19:34.004793Z"
    },
    "papermill": {
     "duration": 0.014864,
     "end_time": "2023-03-26T07:19:34.008180",
     "exception": false,
     "start_time": "2023-03-26T07:19:33.993316",
     "status": "completed"
    },
    "tags": []
   },
   "outputs": [],
   "source": [
    "#q1.hint()\n",
    "#q1.solution()"
   ]
  },
  {
   "cell_type": "markdown",
   "id": "e46ae19c",
   "metadata": {
    "papermill": {
     "duration": 0.005642,
     "end_time": "2023-03-26T07:19:34.019755",
     "exception": false,
     "start_time": "2023-03-26T07:19:34.014113",
     "status": "completed"
    },
    "tags": []
   },
   "source": [
    "## 2.\n",
    "\n",
    "Create a dataframe `fruit_sales` that matches the diagram below:\n",
    "\n",
    "![](https://i.imgur.com/CHPn7ZF.png)"
   ]
  },
  {
   "cell_type": "code",
   "execution_count": 4,
   "id": "c521ff17",
   "metadata": {
    "execution": {
     "iopub.execute_input": "2023-03-26T07:19:34.034138Z",
     "iopub.status.busy": "2023-03-26T07:19:34.033441Z",
     "iopub.status.idle": "2023-03-26T07:19:34.045100Z",
     "shell.execute_reply": "2023-03-26T07:19:34.043739Z"
    },
    "papermill": {
     "duration": 0.021728,
     "end_time": "2023-03-26T07:19:34.047480",
     "exception": false,
     "start_time": "2023-03-26T07:19:34.025752",
     "status": "completed"
    },
    "tags": []
   },
   "outputs": [
    {
     "data": {
      "text/html": [
       "<div>\n",
       "<style scoped>\n",
       "    .dataframe tbody tr th:only-of-type {\n",
       "        vertical-align: middle;\n",
       "    }\n",
       "\n",
       "    .dataframe tbody tr th {\n",
       "        vertical-align: top;\n",
       "    }\n",
       "\n",
       "    .dataframe thead th {\n",
       "        text-align: right;\n",
       "    }\n",
       "</style>\n",
       "<table border=\"1\" class=\"dataframe\">\n",
       "  <thead>\n",
       "    <tr style=\"text-align: right;\">\n",
       "      <th></th>\n",
       "      <th>Apples</th>\n",
       "      <th>Bananas</th>\n",
       "    </tr>\n",
       "  </thead>\n",
       "  <tbody>\n",
       "    <tr>\n",
       "      <th>2017 sales</th>\n",
       "      <td>35</td>\n",
       "      <td>21</td>\n",
       "    </tr>\n",
       "    <tr>\n",
       "      <th>2018 sales</th>\n",
       "      <td>41</td>\n",
       "      <td>34</td>\n",
       "    </tr>\n",
       "  </tbody>\n",
       "</table>\n",
       "</div>"
      ],
      "text/plain": [
       "            Apples  Bananas\n",
       "2017 sales      35       21\n",
       "2018 sales      41       34"
      ]
     },
     "execution_count": 4,
     "metadata": {},
     "output_type": "execute_result"
    }
   ],
   "source": [
    "# Your code goes here. Create a dataframe matching the above diagram and assign it to the variable fruit_sales.\n",
    "fruit_sales =  pd.DataFrame({'Apples':[35,41],'Bananas':[21,34]} , index = ['2017 sales','2018 sales'])\n",
    "# Check your answer\n",
    "\n",
    "fruit_sales"
   ]
  },
  {
   "cell_type": "code",
   "execution_count": 5,
   "id": "9c513b02",
   "metadata": {
    "execution": {
     "iopub.execute_input": "2023-03-26T07:19:34.062457Z",
     "iopub.status.busy": "2023-03-26T07:19:34.062036Z",
     "iopub.status.idle": "2023-03-26T07:19:34.067383Z",
     "shell.execute_reply": "2023-03-26T07:19:34.066014Z"
    },
    "papermill": {
     "duration": 0.016395,
     "end_time": "2023-03-26T07:19:34.069864",
     "exception": false,
     "start_time": "2023-03-26T07:19:34.053469",
     "status": "completed"
    },
    "tags": []
   },
   "outputs": [],
   "source": [
    "#q2.hint()\n",
    "#q2.solution()"
   ]
  },
  {
   "cell_type": "markdown",
   "id": "8b2df1bc",
   "metadata": {
    "papermill": {
     "duration": 0.006544,
     "end_time": "2023-03-26T07:19:34.084192",
     "exception": false,
     "start_time": "2023-03-26T07:19:34.077648",
     "status": "completed"
    },
    "tags": []
   },
   "source": [
    "## 3.\n",
    "\n",
    "Create a variable `ingredients` with a Series that looks like:\n",
    "\n",
    "```\n",
    "Flour     4 cups\n",
    "Milk       1 cup\n",
    "Eggs     2 large\n",
    "Spam       1 can\n",
    "Name: Dinner, dtype: object\n",
    "```"
   ]
  },
  {
   "cell_type": "code",
   "execution_count": 6,
   "id": "2d807fa8",
   "metadata": {
    "execution": {
     "iopub.execute_input": "2023-03-26T07:19:34.099159Z",
     "iopub.status.busy": "2023-03-26T07:19:34.098049Z",
     "iopub.status.idle": "2023-03-26T07:19:34.107995Z",
     "shell.execute_reply": "2023-03-26T07:19:34.106794Z"
    },
    "papermill": {
     "duration": 0.019961,
     "end_time": "2023-03-26T07:19:34.110365",
     "exception": false,
     "start_time": "2023-03-26T07:19:34.090404",
     "status": "completed"
    },
    "tags": []
   },
   "outputs": [
    {
     "data": {
      "text/plain": [
       "Flour     4 cups\n",
       "Milk       1 cup\n",
       "Eggs     2 large\n",
       "Spam       1 can\n",
       "Name: Dinner, dtype: object"
      ]
     },
     "execution_count": 6,
     "metadata": {},
     "output_type": "execute_result"
    }
   ],
   "source": [
    "ingredients = pd.Series(['4 cups','1 cup','2 large','1 can'], index = ['Flour','Milk','Eggs','Spam',], name = 'Dinner')\n",
    "\n",
    "# Check your answer\n",
    "\n",
    "ingredients"
   ]
  },
  {
   "cell_type": "code",
   "execution_count": 7,
   "id": "b8f592ec",
   "metadata": {
    "execution": {
     "iopub.execute_input": "2023-03-26T07:19:34.125493Z",
     "iopub.status.busy": "2023-03-26T07:19:34.124750Z",
     "iopub.status.idle": "2023-03-26T07:19:34.130729Z",
     "shell.execute_reply": "2023-03-26T07:19:34.129160Z"
    },
    "papermill": {
     "duration": 0.01685,
     "end_time": "2023-03-26T07:19:34.133651",
     "exception": false,
     "start_time": "2023-03-26T07:19:34.116801",
     "status": "completed"
    },
    "tags": []
   },
   "outputs": [],
   "source": [
    "#q3.hint()\n",
    "#q3.solution()"
   ]
  },
  {
   "cell_type": "markdown",
   "id": "274cf979",
   "metadata": {
    "papermill": {
     "duration": 0.006018,
     "end_time": "2023-03-26T07:19:34.146255",
     "exception": false,
     "start_time": "2023-03-26T07:19:34.140237",
     "status": "completed"
    },
    "tags": []
   },
   "source": [
    "## 4.\n",
    "\n",
    "Read the following csv dataset of wine reviews into a DataFrame called `reviews`:\n",
    "\n",
    "![](https://i.imgur.com/74RCZtU.png)\n",
    "\n",
    "The filepath to the csv file is `../input/wine-reviews/winemag-data_first150k.csv`. The first few lines look like:\n",
    "\n",
    "```\n",
    ",country,description,designation,points,price,province,region_1,region_2,variety,winery\n",
    "0,US,\"This tremendous 100% varietal wine[...]\",Martha's Vineyard,96,235.0,California,Napa Valley,Napa,Cabernet Sauvignon,Heitz\n",
    "1,Spain,\"Ripe aromas of fig, blackberry and[...]\",Carodorum Selección Especial Reserva,96,110.0,Northern Spain,Toro,,Tinta de Toro,Bodega Carmen Rodríguez\n",
    "```"
   ]
  },
  {
   "cell_type": "code",
   "execution_count": 8,
   "id": "6256ec33",
   "metadata": {
    "execution": {
     "iopub.execute_input": "2023-03-26T07:19:34.162732Z",
     "iopub.status.busy": "2023-03-26T07:19:34.161644Z",
     "iopub.status.idle": "2023-03-26T07:19:35.031270Z",
     "shell.execute_reply": "2023-03-26T07:19:35.029876Z"
    },
    "papermill": {
     "duration": 0.880421,
     "end_time": "2023-03-26T07:19:35.034089",
     "exception": false,
     "start_time": "2023-03-26T07:19:34.153668",
     "status": "completed"
    },
    "tags": []
   },
   "outputs": [
    {
     "data": {
      "text/html": [
       "<div>\n",
       "<style scoped>\n",
       "    .dataframe tbody tr th:only-of-type {\n",
       "        vertical-align: middle;\n",
       "    }\n",
       "\n",
       "    .dataframe tbody tr th {\n",
       "        vertical-align: top;\n",
       "    }\n",
       "\n",
       "    .dataframe thead th {\n",
       "        text-align: right;\n",
       "    }\n",
       "</style>\n",
       "<table border=\"1\" class=\"dataframe\">\n",
       "  <thead>\n",
       "    <tr style=\"text-align: right;\">\n",
       "      <th></th>\n",
       "      <th>Unnamed: 0</th>\n",
       "      <th>country</th>\n",
       "      <th>description</th>\n",
       "      <th>designation</th>\n",
       "      <th>points</th>\n",
       "      <th>price</th>\n",
       "      <th>province</th>\n",
       "      <th>region_1</th>\n",
       "      <th>region_2</th>\n",
       "      <th>variety</th>\n",
       "      <th>winery</th>\n",
       "    </tr>\n",
       "  </thead>\n",
       "  <tbody>\n",
       "    <tr>\n",
       "      <th>0</th>\n",
       "      <td>0</td>\n",
       "      <td>US</td>\n",
       "      <td>This tremendous 100% varietal wine hails from ...</td>\n",
       "      <td>Martha's Vineyard</td>\n",
       "      <td>96</td>\n",
       "      <td>235.0</td>\n",
       "      <td>California</td>\n",
       "      <td>Napa Valley</td>\n",
       "      <td>Napa</td>\n",
       "      <td>Cabernet Sauvignon</td>\n",
       "      <td>Heitz</td>\n",
       "    </tr>\n",
       "    <tr>\n",
       "      <th>1</th>\n",
       "      <td>1</td>\n",
       "      <td>Spain</td>\n",
       "      <td>Ripe aromas of fig, blackberry and cassis are ...</td>\n",
       "      <td>Carodorum Selección Especial Reserva</td>\n",
       "      <td>96</td>\n",
       "      <td>110.0</td>\n",
       "      <td>Northern Spain</td>\n",
       "      <td>Toro</td>\n",
       "      <td>NaN</td>\n",
       "      <td>Tinta de Toro</td>\n",
       "      <td>Bodega Carmen Rodríguez</td>\n",
       "    </tr>\n",
       "    <tr>\n",
       "      <th>...</th>\n",
       "      <td>...</td>\n",
       "      <td>...</td>\n",
       "      <td>...</td>\n",
       "      <td>...</td>\n",
       "      <td>...</td>\n",
       "      <td>...</td>\n",
       "      <td>...</td>\n",
       "      <td>...</td>\n",
       "      <td>...</td>\n",
       "      <td>...</td>\n",
       "      <td>...</td>\n",
       "    </tr>\n",
       "    <tr>\n",
       "      <th>150928</th>\n",
       "      <td>150928</td>\n",
       "      <td>France</td>\n",
       "      <td>A perfect salmon shade, with scents of peaches...</td>\n",
       "      <td>Grand Brut Rosé</td>\n",
       "      <td>90</td>\n",
       "      <td>52.0</td>\n",
       "      <td>Champagne</td>\n",
       "      <td>Champagne</td>\n",
       "      <td>NaN</td>\n",
       "      <td>Champagne Blend</td>\n",
       "      <td>Gosset</td>\n",
       "    </tr>\n",
       "    <tr>\n",
       "      <th>150929</th>\n",
       "      <td>150929</td>\n",
       "      <td>Italy</td>\n",
       "      <td>More Pinot Grigios should taste like this. A r...</td>\n",
       "      <td>NaN</td>\n",
       "      <td>90</td>\n",
       "      <td>15.0</td>\n",
       "      <td>Northeastern Italy</td>\n",
       "      <td>Alto Adige</td>\n",
       "      <td>NaN</td>\n",
       "      <td>Pinot Grigio</td>\n",
       "      <td>Alois Lageder</td>\n",
       "    </tr>\n",
       "  </tbody>\n",
       "</table>\n",
       "<p>150930 rows × 11 columns</p>\n",
       "</div>"
      ],
      "text/plain": [
       "        Unnamed: 0 country                                        description  \\\n",
       "0                0      US  This tremendous 100% varietal wine hails from ...   \n",
       "1                1   Spain  Ripe aromas of fig, blackberry and cassis are ...   \n",
       "...            ...     ...                                                ...   \n",
       "150928      150928  France  A perfect salmon shade, with scents of peaches...   \n",
       "150929      150929   Italy  More Pinot Grigios should taste like this. A r...   \n",
       "\n",
       "                                 designation  points  price  \\\n",
       "0                          Martha's Vineyard      96  235.0   \n",
       "1       Carodorum Selección Especial Reserva      96  110.0   \n",
       "...                                      ...     ...    ...   \n",
       "150928                       Grand Brut Rosé      90   52.0   \n",
       "150929                                   NaN      90   15.0   \n",
       "\n",
       "                  province     region_1 region_2             variety  \\\n",
       "0               California  Napa Valley     Napa  Cabernet Sauvignon   \n",
       "1           Northern Spain         Toro      NaN       Tinta de Toro   \n",
       "...                    ...          ...      ...                 ...   \n",
       "150928           Champagne    Champagne      NaN     Champagne Blend   \n",
       "150929  Northeastern Italy   Alto Adige      NaN        Pinot Grigio   \n",
       "\n",
       "                         winery  \n",
       "0                         Heitz  \n",
       "1       Bodega Carmen Rodríguez  \n",
       "...                         ...  \n",
       "150928                   Gosset  \n",
       "150929            Alois Lageder  \n",
       "\n",
       "[150930 rows x 11 columns]"
      ]
     },
     "execution_count": 8,
     "metadata": {},
     "output_type": "execute_result"
    }
   ],
   "source": [
    "reviews = pd.read_csv(\"../input/wine-reviews/winemag-data_first150k.csv\")\n",
    "\n",
    "# Check your answer\n",
    "reviews"
   ]
  },
  {
   "cell_type": "code",
   "execution_count": 9,
   "id": "e49c8942",
   "metadata": {
    "execution": {
     "iopub.execute_input": "2023-03-26T07:19:35.049480Z",
     "iopub.status.busy": "2023-03-26T07:19:35.049068Z",
     "iopub.status.idle": "2023-03-26T07:19:35.054411Z",
     "shell.execute_reply": "2023-03-26T07:19:35.053250Z"
    },
    "papermill": {
     "duration": 0.01632,
     "end_time": "2023-03-26T07:19:35.057188",
     "exception": false,
     "start_time": "2023-03-26T07:19:35.040868",
     "status": "completed"
    },
    "tags": []
   },
   "outputs": [],
   "source": [
    "#q4.hint()\n",
    "#q4.solution()"
   ]
  },
  {
   "cell_type": "markdown",
   "id": "0eb8ef89",
   "metadata": {
    "papermill": {
     "duration": 0.006737,
     "end_time": "2023-03-26T07:19:35.071636",
     "exception": false,
     "start_time": "2023-03-26T07:19:35.064899",
     "status": "completed"
    },
    "tags": []
   },
   "source": [
    "## 5.\n",
    "\n",
    "Run the cell below to create and display a DataFrame called `animals`:"
   ]
  },
  {
   "cell_type": "code",
   "execution_count": 10,
   "id": "960dbd26",
   "metadata": {
    "execution": {
     "iopub.execute_input": "2023-03-26T07:19:35.087415Z",
     "iopub.status.busy": "2023-03-26T07:19:35.086670Z",
     "iopub.status.idle": "2023-03-26T07:19:35.098910Z",
     "shell.execute_reply": "2023-03-26T07:19:35.097621Z"
    },
    "papermill": {
     "duration": 0.022883,
     "end_time": "2023-03-26T07:19:35.101314",
     "exception": false,
     "start_time": "2023-03-26T07:19:35.078431",
     "status": "completed"
    },
    "tags": []
   },
   "outputs": [
    {
     "data": {
      "text/html": [
       "<div>\n",
       "<style scoped>\n",
       "    .dataframe tbody tr th:only-of-type {\n",
       "        vertical-align: middle;\n",
       "    }\n",
       "\n",
       "    .dataframe tbody tr th {\n",
       "        vertical-align: top;\n",
       "    }\n",
       "\n",
       "    .dataframe thead th {\n",
       "        text-align: right;\n",
       "    }\n",
       "</style>\n",
       "<table border=\"1\" class=\"dataframe\">\n",
       "  <thead>\n",
       "    <tr style=\"text-align: right;\">\n",
       "      <th></th>\n",
       "      <th>Cows</th>\n",
       "      <th>Goats</th>\n",
       "    </tr>\n",
       "  </thead>\n",
       "  <tbody>\n",
       "    <tr>\n",
       "      <th>Year 1</th>\n",
       "      <td>12</td>\n",
       "      <td>22</td>\n",
       "    </tr>\n",
       "    <tr>\n",
       "      <th>Year 2</th>\n",
       "      <td>20</td>\n",
       "      <td>19</td>\n",
       "    </tr>\n",
       "  </tbody>\n",
       "</table>\n",
       "</div>"
      ],
      "text/plain": [
       "        Cows  Goats\n",
       "Year 1    12     22\n",
       "Year 2    20     19"
      ]
     },
     "execution_count": 10,
     "metadata": {},
     "output_type": "execute_result"
    }
   ],
   "source": [
    "animals = pd.DataFrame({'Cows': [12, 20], 'Goats': [22, 19]}, index=['Year 1', 'Year 2'])\n",
    "animals"
   ]
  },
  {
   "cell_type": "markdown",
   "id": "ca89cb73",
   "metadata": {
    "papermill": {
     "duration": 0.007515,
     "end_time": "2023-03-26T07:19:35.115679",
     "exception": false,
     "start_time": "2023-03-26T07:19:35.108164",
     "status": "completed"
    },
    "tags": []
   },
   "source": [
    "In the cell below, write code to save this DataFrame to disk as a csv file with the name `cows_and_goats.csv`."
   ]
  },
  {
   "cell_type": "code",
   "execution_count": 11,
   "id": "4d2e052d",
   "metadata": {
    "execution": {
     "iopub.execute_input": "2023-03-26T07:19:35.131663Z",
     "iopub.status.busy": "2023-03-26T07:19:35.131225Z",
     "iopub.status.idle": "2023-03-26T07:19:35.142678Z",
     "shell.execute_reply": "2023-03-26T07:19:35.141542Z"
    },
    "papermill": {
     "duration": 0.022796,
     "end_time": "2023-03-26T07:19:35.145530",
     "exception": false,
     "start_time": "2023-03-26T07:19:35.122734",
     "status": "completed"
    },
    "tags": []
   },
   "outputs": [],
   "source": [
    "# Your code goes here\n",
    "import pandas as pd\n",
    "animals.to_csv('cows_and_goats.csv')\n",
    "# Check your answer\n"
   ]
  },
  {
   "cell_type": "code",
   "execution_count": 12,
   "id": "da0600c1",
   "metadata": {
    "execution": {
     "iopub.execute_input": "2023-03-26T07:19:35.161503Z",
     "iopub.status.busy": "2023-03-26T07:19:35.161096Z",
     "iopub.status.idle": "2023-03-26T07:19:35.164777Z",
     "shell.execute_reply": "2023-03-26T07:19:35.163892Z"
    },
    "papermill": {
     "duration": 0.014618,
     "end_time": "2023-03-26T07:19:35.167094",
     "exception": false,
     "start_time": "2023-03-26T07:19:35.152476",
     "status": "completed"
    },
    "tags": []
   },
   "outputs": [],
   "source": [
    "#q5.hint()\n",
    "#q5.solution()"
   ]
  },
  {
   "cell_type": "code",
   "execution_count": null,
   "id": "da08aa51",
   "metadata": {
    "papermill": {
     "duration": 0.006554,
     "end_time": "2023-03-26T07:19:35.180758",
     "exception": false,
     "start_time": "2023-03-26T07:19:35.174204",
     "status": "completed"
    },
    "tags": []
   },
   "outputs": [],
   "source": []
  },
  {
   "cell_type": "markdown",
   "id": "e5808c86",
   "metadata": {
    "papermill": {
     "duration": 0.006571,
     "end_time": "2023-03-26T07:19:35.194268",
     "exception": false,
     "start_time": "2023-03-26T07:19:35.187697",
     "status": "completed"
    },
    "tags": []
   },
   "source": []
  },
  {
   "cell_type": "code",
   "execution_count": null,
   "id": "a7427fa8",
   "metadata": {
    "papermill": {
     "duration": 0.006557,
     "end_time": "2023-03-26T07:19:35.207689",
     "exception": false,
     "start_time": "2023-03-26T07:19:35.201132",
     "status": "completed"
    },
    "tags": []
   },
   "outputs": [],
   "source": []
  },
  {
   "cell_type": "markdown",
   "id": "fed15ff8",
   "metadata": {
    "papermill": {
     "duration": 0.006523,
     "end_time": "2023-03-26T07:19:35.220950",
     "exception": false,
     "start_time": "2023-03-26T07:19:35.214427",
     "status": "completed"
    },
    "tags": []
   },
   "source": [
    "# Keep going\n",
    "\n",
    "Move on to learn about **[indexing, selecting and assigning](https://www.kaggle.com/residentmario/indexing-selecting-assigning)**."
   ]
  },
  {
   "cell_type": "markdown",
   "id": "b53d60fa",
   "metadata": {
    "papermill": {
     "duration": 0.006511,
     "end_time": "2023-03-26T07:19:35.234398",
     "exception": false,
     "start_time": "2023-03-26T07:19:35.227887",
     "status": "completed"
    },
    "tags": []
   },
   "source": [
    "---\n",
    "\n",
    "\n",
    "\n",
    "\n",
    "*Have questions or comments? Visit the [course discussion forum](https://www.kaggle.com/learn/pandas/discussion) to chat with other learners.*"
   ]
  }
 ],
 "metadata": {
  "kernelspec": {
   "display_name": "Python 3",
   "language": "python",
   "name": "python3"
  },
  "language_info": {
   "codemirror_mode": {
    "name": "ipython",
    "version": 3
   },
   "file_extension": ".py",
   "mimetype": "text/x-python",
   "name": "python",
   "nbconvert_exporter": "python",
   "pygments_lexer": "ipython3",
   "version": "3.7.12"
  },
  "papermill": {
   "default_parameters": {},
   "duration": 14.40237,
   "end_time": "2023-03-26T07:19:36.064581",
   "environment_variables": {},
   "exception": null,
   "input_path": "__notebook__.ipynb",
   "output_path": "__notebook__.ipynb",
   "parameters": {},
   "start_time": "2023-03-26T07:19:21.662211",
   "version": "2.4.0"
  }
 },
 "nbformat": 4,
 "nbformat_minor": 5
}
