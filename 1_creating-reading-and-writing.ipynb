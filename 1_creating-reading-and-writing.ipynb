{
 "cells": [
  {
   "cell_type": "markdown",
   "id": "1543f248",
   "metadata": {
    "papermill": {
     "duration": 0.006764,
     "end_time": "2023-03-28T09:16:17.979800",
     "exception": false,
     "start_time": "2023-03-28T09:16:17.973036",
     "status": "completed"
    },
    "tags": []
   },
   "source": [
    "**This notebook is an exercise in the [Pandas](https://www.kaggle.com/learn/pandas) course.  You can reference the tutorial at [this link](https://www.kaggle.com/residentmario/creating-reading-and-writing).**\n",
    "\n",
    "---\n"
   ]
  },
  {
   "cell_type": "markdown",
   "id": "f9d21396",
   "metadata": {
    "papermill": {
     "duration": 0.005226,
     "end_time": "2023-03-28T09:16:17.990788",
     "exception": false,
     "start_time": "2023-03-28T09:16:17.985562",
     "status": "completed"
    },
    "tags": []
   },
   "source": [
    "# Introduction\n",
    "\n",
    "The first step in most data analytics projects is reading the data file. In this exercise, you'll create Series and DataFrame objects, both by hand and by reading data files.\n",
    "\n",
    "Run the code cell below to load libraries you will need (including code to check your answers)."
   ]
  },
  {
   "cell_type": "code",
   "execution_count": 1,
   "id": "3a3fa789",
   "metadata": {
    "execution": {
     "iopub.execute_input": "2023-03-28T09:16:18.004300Z",
     "iopub.status.busy": "2023-03-28T09:16:18.003871Z",
     "iopub.status.idle": "2023-03-28T09:16:19.855157Z",
     "shell.execute_reply": "2023-03-28T09:16:19.853707Z"
    },
    "papermill": {
     "duration": 1.862636,
     "end_time": "2023-03-28T09:16:19.859124",
     "exception": false,
     "start_time": "2023-03-28T09:16:17.996488",
     "status": "completed"
    },
    "tags": []
   },
   "outputs": [
    {
     "name": "stdout",
     "output_type": "stream",
     "text": [
      "Setup complete.\n"
     ]
    }
   ],
   "source": [
    "import pandas as pd\n",
    "pd.set_option('max_rows', 5)\n",
    "from learntools.core import binder; binder.bind(globals())\n",
    "from learntools.pandas.creating_reading_and_writing import *\n",
    "print(\"Setup complete.\")"
   ]
  },
  {
   "cell_type": "code",
   "execution_count": null,
   "id": "d96ed5da",
   "metadata": {
    "papermill": {
     "duration": 0.005431,
     "end_time": "2023-03-28T09:16:19.870971",
     "exception": false,
     "start_time": "2023-03-28T09:16:19.865540",
     "status": "completed"
    },
    "tags": []
   },
   "outputs": [],
   "source": []
  },
  {
   "cell_type": "markdown",
   "id": "f9934f31",
   "metadata": {
    "papermill": {
     "duration": 0.005413,
     "end_time": "2023-03-28T09:16:19.882086",
     "exception": false,
     "start_time": "2023-03-28T09:16:19.876673",
     "status": "completed"
    },
    "tags": []
   },
   "source": [
    "# Exercises"
   ]
  },
  {
   "cell_type": "markdown",
   "id": "20b05d18",
   "metadata": {
    "papermill": {
     "duration": 0.005327,
     "end_time": "2023-03-28T09:16:19.893049",
     "exception": false,
     "start_time": "2023-03-28T09:16:19.887722",
     "status": "completed"
    },
    "tags": []
   },
   "source": [
    "## 1.\n",
    "\n",
    "In the cell below, create a DataFrame `fruits` that looks like this:\n",
    "\n",
    "![](https://i.imgur.com/Ax3pp2A.png)"
   ]
  },
  {
   "cell_type": "code",
   "execution_count": 2,
   "id": "f4215191",
   "metadata": {
    "execution": {
     "iopub.execute_input": "2023-03-28T09:16:19.906599Z",
     "iopub.status.busy": "2023-03-28T09:16:19.906171Z",
     "iopub.status.idle": "2023-03-28T09:16:19.937719Z",
     "shell.execute_reply": "2023-03-28T09:16:19.936319Z"
    },
    "papermill": {
     "duration": 0.041516,
     "end_time": "2023-03-28T09:16:19.940444",
     "exception": false,
     "start_time": "2023-03-28T09:16:19.898928",
     "status": "completed"
    },
    "tags": []
   },
   "outputs": [
    {
     "data": {
      "application/javascript": [
       "parent.postMessage({\"jupyterEvent\": \"custom.exercise_interaction\", \"data\": {\"outcomeType\": 1, \"valueTowardsCompletion\": 0.16666666666666666, \"interactionType\": 1, \"questionType\": 1, \"questionId\": \"1_FruitDfCreation\", \"learnToolsVersion\": \"0.3.4\", \"failureMessage\": \"\", \"exceptionClass\": \"\", \"trace\": \"\"}}, \"*\")"
      ],
      "text/plain": [
       "<IPython.core.display.Javascript object>"
      ]
     },
     "metadata": {},
     "output_type": "display_data"
    },
    {
     "data": {
      "text/markdown": [
       "<span style=\"color:#33cc33\">Correct</span>"
      ],
      "text/plain": [
       "Correct"
      ]
     },
     "metadata": {},
     "output_type": "display_data"
    },
    {
     "data": {
      "text/html": [
       "<div>\n",
       "<style scoped>\n",
       "    .dataframe tbody tr th:only-of-type {\n",
       "        vertical-align: middle;\n",
       "    }\n",
       "\n",
       "    .dataframe tbody tr th {\n",
       "        vertical-align: top;\n",
       "    }\n",
       "\n",
       "    .dataframe thead th {\n",
       "        text-align: right;\n",
       "    }\n",
       "</style>\n",
       "<table border=\"1\" class=\"dataframe\">\n",
       "  <thead>\n",
       "    <tr style=\"text-align: right;\">\n",
       "      <th></th>\n",
       "      <th>Apples</th>\n",
       "      <th>Bananas</th>\n",
       "    </tr>\n",
       "  </thead>\n",
       "  <tbody>\n",
       "    <tr>\n",
       "      <th>0</th>\n",
       "      <td>30</td>\n",
       "      <td>21</td>\n",
       "    </tr>\n",
       "  </tbody>\n",
       "</table>\n",
       "</div>"
      ],
      "text/plain": [
       "   Apples  Bananas\n",
       "0      30       21"
      ]
     },
     "execution_count": 2,
     "metadata": {},
     "output_type": "execute_result"
    }
   ],
   "source": [
    "# Your code goes here. Create a dataframe matching the above diagram and assign it to the variable fruits.\n",
    "import pandas as pd\n",
    "fruits = pd.DataFrame({'Apples':[30],'Bananas':[21]})\n",
    "\n",
    "# Check your answer\n",
    "q1.check()\n",
    "fruits"
   ]
  },
  {
   "cell_type": "code",
   "execution_count": 3,
   "id": "0f3e8dff",
   "metadata": {
    "execution": {
     "iopub.execute_input": "2023-03-28T09:16:19.955332Z",
     "iopub.status.busy": "2023-03-28T09:16:19.954511Z",
     "iopub.status.idle": "2023-03-28T09:16:19.959271Z",
     "shell.execute_reply": "2023-03-28T09:16:19.958215Z"
    },
    "papermill": {
     "duration": 0.015019,
     "end_time": "2023-03-28T09:16:19.961751",
     "exception": false,
     "start_time": "2023-03-28T09:16:19.946732",
     "status": "completed"
    },
    "tags": []
   },
   "outputs": [],
   "source": [
    "#q1.hint()\n",
    "#q1.solution()"
   ]
  },
  {
   "cell_type": "markdown",
   "id": "c2232c21",
   "metadata": {
    "papermill": {
     "duration": 0.005924,
     "end_time": "2023-03-28T09:16:19.974034",
     "exception": false,
     "start_time": "2023-03-28T09:16:19.968110",
     "status": "completed"
    },
    "tags": []
   },
   "source": [
    "## 2.\n",
    "\n",
    "Create a dataframe `fruit_sales` that matches the diagram below:\n",
    "\n",
    "![](https://i.imgur.com/CHPn7ZF.png)"
   ]
  },
  {
   "cell_type": "code",
   "execution_count": 4,
   "id": "288a3736",
   "metadata": {
    "execution": {
     "iopub.execute_input": "2023-03-28T09:16:19.988828Z",
     "iopub.status.busy": "2023-03-28T09:16:19.988003Z",
     "iopub.status.idle": "2023-03-28T09:16:20.005528Z",
     "shell.execute_reply": "2023-03-28T09:16:20.004150Z"
    },
    "papermill": {
     "duration": 0.027996,
     "end_time": "2023-03-28T09:16:20.008232",
     "exception": false,
     "start_time": "2023-03-28T09:16:19.980236",
     "status": "completed"
    },
    "tags": []
   },
   "outputs": [
    {
     "data": {
      "application/javascript": [
       "parent.postMessage({\"jupyterEvent\": \"custom.exercise_interaction\", \"data\": {\"outcomeType\": 1, \"valueTowardsCompletion\": 0.16666666666666666, \"interactionType\": 1, \"questionType\": 1, \"questionId\": \"2_FruitSalesDfCreation\", \"learnToolsVersion\": \"0.3.4\", \"failureMessage\": \"\", \"exceptionClass\": \"\", \"trace\": \"\"}}, \"*\")"
      ],
      "text/plain": [
       "<IPython.core.display.Javascript object>"
      ]
     },
     "metadata": {},
     "output_type": "display_data"
    },
    {
     "data": {
      "text/markdown": [
       "<span style=\"color:#33cc33\">Correct</span>"
      ],
      "text/plain": [
       "Correct"
      ]
     },
     "metadata": {},
     "output_type": "display_data"
    },
    {
     "data": {
      "text/html": [
       "<div>\n",
       "<style scoped>\n",
       "    .dataframe tbody tr th:only-of-type {\n",
       "        vertical-align: middle;\n",
       "    }\n",
       "\n",
       "    .dataframe tbody tr th {\n",
       "        vertical-align: top;\n",
       "    }\n",
       "\n",
       "    .dataframe thead th {\n",
       "        text-align: right;\n",
       "    }\n",
       "</style>\n",
       "<table border=\"1\" class=\"dataframe\">\n",
       "  <thead>\n",
       "    <tr style=\"text-align: right;\">\n",
       "      <th></th>\n",
       "      <th>Apples</th>\n",
       "      <th>Bananas</th>\n",
       "    </tr>\n",
       "  </thead>\n",
       "  <tbody>\n",
       "    <tr>\n",
       "      <th>2017 Sales</th>\n",
       "      <td>35</td>\n",
       "      <td>21</td>\n",
       "    </tr>\n",
       "    <tr>\n",
       "      <th>2018 Sales</th>\n",
       "      <td>41</td>\n",
       "      <td>34</td>\n",
       "    </tr>\n",
       "  </tbody>\n",
       "</table>\n",
       "</div>"
      ],
      "text/plain": [
       "            Apples  Bananas\n",
       "2017 Sales      35       21\n",
       "2018 Sales      41       34"
      ]
     },
     "execution_count": 4,
     "metadata": {},
     "output_type": "execute_result"
    }
   ],
   "source": [
    "# Your code goes here. Create a dataframe matching the above diagram and assign it to the variable fruit_sales.\n",
    "fruit_sales =  pd.DataFrame({'Apples':[35,41],\n",
    "                             'Bananas':[21,34]},\n",
    "                            index = ['2017 Sales','2018 Sales'])\n",
    "# Check your answer\n",
    "\n",
    "q2.check()\n",
    "\n",
    "fruit_sales"
   ]
  },
  {
   "cell_type": "code",
   "execution_count": 5,
   "id": "3f738f28",
   "metadata": {
    "execution": {
     "iopub.execute_input": "2023-03-28T09:16:20.025436Z",
     "iopub.status.busy": "2023-03-28T09:16:20.024194Z",
     "iopub.status.idle": "2023-03-28T09:16:20.029603Z",
     "shell.execute_reply": "2023-03-28T09:16:20.028601Z"
    },
    "papermill": {
     "duration": 0.017179,
     "end_time": "2023-03-28T09:16:20.032030",
     "exception": false,
     "start_time": "2023-03-28T09:16:20.014851",
     "status": "completed"
    },
    "tags": []
   },
   "outputs": [],
   "source": [
    "#q2.hint()\n",
    "#q2.solution()"
   ]
  },
  {
   "cell_type": "markdown",
   "id": "db666330",
   "metadata": {
    "papermill": {
     "duration": 0.006273,
     "end_time": "2023-03-28T09:16:20.045187",
     "exception": false,
     "start_time": "2023-03-28T09:16:20.038914",
     "status": "completed"
    },
    "tags": []
   },
   "source": [
    "## 3.\n",
    "\n",
    "Create a variable `ingredients` with a Series that looks like:\n",
    "\n",
    "```\n",
    "Flour     4 cups\n",
    "Milk       1 cup\n",
    "Eggs     2 large\n",
    "Spam       1 can\n",
    "Name: Dinner, dtype: object\n",
    "```"
   ]
  },
  {
   "cell_type": "code",
   "execution_count": 6,
   "id": "1d0f35ca",
   "metadata": {
    "execution": {
     "iopub.execute_input": "2023-03-28T09:16:20.061481Z",
     "iopub.status.busy": "2023-03-28T09:16:20.060565Z",
     "iopub.status.idle": "2023-03-28T09:16:20.078023Z",
     "shell.execute_reply": "2023-03-28T09:16:20.076549Z"
    },
    "papermill": {
     "duration": 0.02884,
     "end_time": "2023-03-28T09:16:20.080581",
     "exception": false,
     "start_time": "2023-03-28T09:16:20.051741",
     "status": "completed"
    },
    "tags": []
   },
   "outputs": [
    {
     "data": {
      "application/javascript": [
       "parent.postMessage({\"jupyterEvent\": \"custom.exercise_interaction\", \"data\": {\"outcomeType\": 1, \"valueTowardsCompletion\": 0.16666666666666666, \"interactionType\": 1, \"questionType\": 2, \"questionId\": \"3_RecipeSeriesCreation\", \"learnToolsVersion\": \"0.3.4\", \"failureMessage\": \"\", \"exceptionClass\": \"\", \"trace\": \"\"}}, \"*\")"
      ],
      "text/plain": [
       "<IPython.core.display.Javascript object>"
      ]
     },
     "metadata": {},
     "output_type": "display_data"
    },
    {
     "data": {
      "text/markdown": [
       "<span style=\"color:#33cc33\">Correct</span>"
      ],
      "text/plain": [
       "Correct"
      ]
     },
     "metadata": {},
     "output_type": "display_data"
    },
    {
     "data": {
      "text/plain": [
       "Flour     4 cups\n",
       "Milk       1 cup\n",
       "Eggs     2 large\n",
       "Spam       1 can\n",
       "Name: Dinner, dtype: object"
      ]
     },
     "execution_count": 6,
     "metadata": {},
     "output_type": "execute_result"
    }
   ],
   "source": [
    "ingredients = pd.Series(['4 cups','1 cup','2 large','1 can'], index = ['Flour','Milk','Eggs','Spam',], name = 'Dinner')\n",
    "\n",
    "# Check your answer\n",
    "q3.check()\n",
    "\n",
    "ingredients"
   ]
  },
  {
   "cell_type": "code",
   "execution_count": 7,
   "id": "e29e2881",
   "metadata": {
    "execution": {
     "iopub.execute_input": "2023-03-28T09:16:20.096932Z",
     "iopub.status.busy": "2023-03-28T09:16:20.096135Z",
     "iopub.status.idle": "2023-03-28T09:16:20.102038Z",
     "shell.execute_reply": "2023-03-28T09:16:20.100661Z"
    },
    "papermill": {
     "duration": 0.017348,
     "end_time": "2023-03-28T09:16:20.104964",
     "exception": false,
     "start_time": "2023-03-28T09:16:20.087616",
     "status": "completed"
    },
    "tags": []
   },
   "outputs": [],
   "source": [
    "#q3.hint()\n",
    "#q3.solution()"
   ]
  },
  {
   "cell_type": "markdown",
   "id": "48472304",
   "metadata": {
    "papermill": {
     "duration": 0.00675,
     "end_time": "2023-03-28T09:16:20.119014",
     "exception": false,
     "start_time": "2023-03-28T09:16:20.112264",
     "status": "completed"
    },
    "tags": []
   },
   "source": [
    "## 4.\n",
    "\n",
    "Read the following csv dataset of wine reviews into a DataFrame called `reviews`:\n",
    "\n",
    "![](https://i.imgur.com/74RCZtU.png)\n",
    "\n",
    "The filepath to the csv file is `../input/wine-reviews/winemag-data_first150k.csv`. The first few lines look like:\n",
    "\n",
    "```\n",
    ",country,description,designation,points,price,province,region_1,region_2,variety,winery\n",
    "0,US,\"This tremendous 100% varietal wine[...]\",Martha's Vineyard,96,235.0,California,Napa Valley,Napa,Cabernet Sauvignon,Heitz\n",
    "1,Spain,\"Ripe aromas of fig, blackberry and[...]\",Carodorum Selección Especial Reserva,96,110.0,Northern Spain,Toro,,Tinta de Toro,Bodega Carmen Rodríguez\n",
    "```"
   ]
  },
  {
   "cell_type": "code",
   "execution_count": 8,
   "id": "6900eb92",
   "metadata": {
    "execution": {
     "iopub.execute_input": "2023-03-28T09:16:20.135570Z",
     "iopub.status.busy": "2023-03-28T09:16:20.134895Z",
     "iopub.status.idle": "2023-03-28T09:16:21.104449Z",
     "shell.execute_reply": "2023-03-28T09:16:21.102993Z"
    },
    "papermill": {
     "duration": 0.981128,
     "end_time": "2023-03-28T09:16:21.107358",
     "exception": false,
     "start_time": "2023-03-28T09:16:20.126230",
     "status": "completed"
    },
    "tags": []
   },
   "outputs": [
    {
     "data": {
      "application/javascript": [
       "parent.postMessage({\"jupyterEvent\": \"custom.exercise_interaction\", \"data\": {\"outcomeType\": 1, \"valueTowardsCompletion\": 0.16666666666666666, \"interactionType\": 1, \"questionType\": 1, \"questionId\": \"4_ReadWineCsv\", \"learnToolsVersion\": \"0.3.4\", \"failureMessage\": \"\", \"exceptionClass\": \"\", \"trace\": \"\"}}, \"*\")"
      ],
      "text/plain": [
       "<IPython.core.display.Javascript object>"
      ]
     },
     "metadata": {},
     "output_type": "display_data"
    },
    {
     "data": {
      "text/markdown": [
       "<span style=\"color:#33cc33\">Correct</span>"
      ],
      "text/plain": [
       "Correct"
      ]
     },
     "metadata": {},
     "output_type": "display_data"
    },
    {
     "data": {
      "text/html": [
       "<div>\n",
       "<style scoped>\n",
       "    .dataframe tbody tr th:only-of-type {\n",
       "        vertical-align: middle;\n",
       "    }\n",
       "\n",
       "    .dataframe tbody tr th {\n",
       "        vertical-align: top;\n",
       "    }\n",
       "\n",
       "    .dataframe thead th {\n",
       "        text-align: right;\n",
       "    }\n",
       "</style>\n",
       "<table border=\"1\" class=\"dataframe\">\n",
       "  <thead>\n",
       "    <tr style=\"text-align: right;\">\n",
       "      <th></th>\n",
       "      <th>country</th>\n",
       "      <th>description</th>\n",
       "      <th>designation</th>\n",
       "      <th>points</th>\n",
       "      <th>price</th>\n",
       "      <th>province</th>\n",
       "      <th>region_1</th>\n",
       "      <th>region_2</th>\n",
       "      <th>variety</th>\n",
       "      <th>winery</th>\n",
       "    </tr>\n",
       "  </thead>\n",
       "  <tbody>\n",
       "    <tr>\n",
       "      <th>0</th>\n",
       "      <td>US</td>\n",
       "      <td>This tremendous 100% varietal wine hails from ...</td>\n",
       "      <td>Martha's Vineyard</td>\n",
       "      <td>96</td>\n",
       "      <td>235.0</td>\n",
       "      <td>California</td>\n",
       "      <td>Napa Valley</td>\n",
       "      <td>Napa</td>\n",
       "      <td>Cabernet Sauvignon</td>\n",
       "      <td>Heitz</td>\n",
       "    </tr>\n",
       "    <tr>\n",
       "      <th>1</th>\n",
       "      <td>Spain</td>\n",
       "      <td>Ripe aromas of fig, blackberry and cassis are ...</td>\n",
       "      <td>Carodorum Selección Especial Reserva</td>\n",
       "      <td>96</td>\n",
       "      <td>110.0</td>\n",
       "      <td>Northern Spain</td>\n",
       "      <td>Toro</td>\n",
       "      <td>NaN</td>\n",
       "      <td>Tinta de Toro</td>\n",
       "      <td>Bodega Carmen Rodríguez</td>\n",
       "    </tr>\n",
       "    <tr>\n",
       "      <th>...</th>\n",
       "      <td>...</td>\n",
       "      <td>...</td>\n",
       "      <td>...</td>\n",
       "      <td>...</td>\n",
       "      <td>...</td>\n",
       "      <td>...</td>\n",
       "      <td>...</td>\n",
       "      <td>...</td>\n",
       "      <td>...</td>\n",
       "      <td>...</td>\n",
       "    </tr>\n",
       "    <tr>\n",
       "      <th>150928</th>\n",
       "      <td>France</td>\n",
       "      <td>A perfect salmon shade, with scents of peaches...</td>\n",
       "      <td>Grand Brut Rosé</td>\n",
       "      <td>90</td>\n",
       "      <td>52.0</td>\n",
       "      <td>Champagne</td>\n",
       "      <td>Champagne</td>\n",
       "      <td>NaN</td>\n",
       "      <td>Champagne Blend</td>\n",
       "      <td>Gosset</td>\n",
       "    </tr>\n",
       "    <tr>\n",
       "      <th>150929</th>\n",
       "      <td>Italy</td>\n",
       "      <td>More Pinot Grigios should taste like this. A r...</td>\n",
       "      <td>NaN</td>\n",
       "      <td>90</td>\n",
       "      <td>15.0</td>\n",
       "      <td>Northeastern Italy</td>\n",
       "      <td>Alto Adige</td>\n",
       "      <td>NaN</td>\n",
       "      <td>Pinot Grigio</td>\n",
       "      <td>Alois Lageder</td>\n",
       "    </tr>\n",
       "  </tbody>\n",
       "</table>\n",
       "<p>150930 rows × 10 columns</p>\n",
       "</div>"
      ],
      "text/plain": [
       "       country                                        description  \\\n",
       "0           US  This tremendous 100% varietal wine hails from ...   \n",
       "1        Spain  Ripe aromas of fig, blackberry and cassis are ...   \n",
       "...        ...                                                ...   \n",
       "150928  France  A perfect salmon shade, with scents of peaches...   \n",
       "150929   Italy  More Pinot Grigios should taste like this. A r...   \n",
       "\n",
       "                                 designation  points  price  \\\n",
       "0                          Martha's Vineyard      96  235.0   \n",
       "1       Carodorum Selección Especial Reserva      96  110.0   \n",
       "...                                      ...     ...    ...   \n",
       "150928                       Grand Brut Rosé      90   52.0   \n",
       "150929                                   NaN      90   15.0   \n",
       "\n",
       "                  province     region_1 region_2             variety  \\\n",
       "0               California  Napa Valley     Napa  Cabernet Sauvignon   \n",
       "1           Northern Spain         Toro      NaN       Tinta de Toro   \n",
       "...                    ...          ...      ...                 ...   \n",
       "150928           Champagne    Champagne      NaN     Champagne Blend   \n",
       "150929  Northeastern Italy   Alto Adige      NaN        Pinot Grigio   \n",
       "\n",
       "                         winery  \n",
       "0                         Heitz  \n",
       "1       Bodega Carmen Rodríguez  \n",
       "...                         ...  \n",
       "150928                   Gosset  \n",
       "150929            Alois Lageder  \n",
       "\n",
       "[150930 rows x 10 columns]"
      ]
     },
     "execution_count": 8,
     "metadata": {},
     "output_type": "execute_result"
    }
   ],
   "source": [
    "reviews_filepath='../input/wine-reviews/winemag-data_first150k.csv'\n",
    "reviews = pd.read_csv(reviews_filepath, index_col=0)\n",
    "\n",
    "# Check your answer\n",
    "q4.check()\n",
    "\n",
    "reviews"
   ]
  },
  {
   "cell_type": "code",
   "execution_count": 9,
   "id": "57a9855c",
   "metadata": {
    "execution": {
     "iopub.execute_input": "2023-03-28T09:16:21.125378Z",
     "iopub.status.busy": "2023-03-28T09:16:21.124276Z",
     "iopub.status.idle": "2023-03-28T09:16:21.128944Z",
     "shell.execute_reply": "2023-03-28T09:16:21.127949Z"
    },
    "papermill": {
     "duration": 0.016691,
     "end_time": "2023-03-28T09:16:21.131496",
     "exception": false,
     "start_time": "2023-03-28T09:16:21.114805",
     "status": "completed"
    },
    "tags": []
   },
   "outputs": [],
   "source": [
    "#q4.hint()\n",
    "#q4.solution()"
   ]
  },
  {
   "cell_type": "markdown",
   "id": "20e2b0de",
   "metadata": {
    "papermill": {
     "duration": 0.007072,
     "end_time": "2023-03-28T09:16:21.146172",
     "exception": false,
     "start_time": "2023-03-28T09:16:21.139100",
     "status": "completed"
    },
    "tags": []
   },
   "source": [
    "## 5.\n",
    "\n",
    "Run the cell below to create and display a DataFrame called `animals`:"
   ]
  },
  {
   "cell_type": "code",
   "execution_count": 10,
   "id": "8868dd2b",
   "metadata": {
    "execution": {
     "iopub.execute_input": "2023-03-28T09:16:21.163229Z",
     "iopub.status.busy": "2023-03-28T09:16:21.162740Z",
     "iopub.status.idle": "2023-03-28T09:16:21.175921Z",
     "shell.execute_reply": "2023-03-28T09:16:21.174577Z"
    },
    "papermill": {
     "duration": 0.025096,
     "end_time": "2023-03-28T09:16:21.178609",
     "exception": false,
     "start_time": "2023-03-28T09:16:21.153513",
     "status": "completed"
    },
    "tags": []
   },
   "outputs": [
    {
     "data": {
      "text/html": [
       "<div>\n",
       "<style scoped>\n",
       "    .dataframe tbody tr th:only-of-type {\n",
       "        vertical-align: middle;\n",
       "    }\n",
       "\n",
       "    .dataframe tbody tr th {\n",
       "        vertical-align: top;\n",
       "    }\n",
       "\n",
       "    .dataframe thead th {\n",
       "        text-align: right;\n",
       "    }\n",
       "</style>\n",
       "<table border=\"1\" class=\"dataframe\">\n",
       "  <thead>\n",
       "    <tr style=\"text-align: right;\">\n",
       "      <th></th>\n",
       "      <th>Cows</th>\n",
       "      <th>Goats</th>\n",
       "    </tr>\n",
       "  </thead>\n",
       "  <tbody>\n",
       "    <tr>\n",
       "      <th>Year 1</th>\n",
       "      <td>12</td>\n",
       "      <td>22</td>\n",
       "    </tr>\n",
       "    <tr>\n",
       "      <th>Year 2</th>\n",
       "      <td>20</td>\n",
       "      <td>19</td>\n",
       "    </tr>\n",
       "  </tbody>\n",
       "</table>\n",
       "</div>"
      ],
      "text/plain": [
       "        Cows  Goats\n",
       "Year 1    12     22\n",
       "Year 2    20     19"
      ]
     },
     "execution_count": 10,
     "metadata": {},
     "output_type": "execute_result"
    }
   ],
   "source": [
    "animals = pd.DataFrame({'Cows': [12, 20], 'Goats': [22, 19]}, index=['Year 1', 'Year 2'])\n",
    "animals"
   ]
  },
  {
   "cell_type": "markdown",
   "id": "eb915d3a",
   "metadata": {
    "papermill": {
     "duration": 0.007186,
     "end_time": "2023-03-28T09:16:21.193601",
     "exception": false,
     "start_time": "2023-03-28T09:16:21.186415",
     "status": "completed"
    },
    "tags": []
   },
   "source": [
    "In the cell below, write code to save this DataFrame to disk as a csv file with the name `cows_and_goats.csv`."
   ]
  },
  {
   "cell_type": "code",
   "execution_count": 11,
   "id": "63b2f689",
   "metadata": {
    "execution": {
     "iopub.execute_input": "2023-03-28T09:16:21.210851Z",
     "iopub.status.busy": "2023-03-28T09:16:21.210403Z",
     "iopub.status.idle": "2023-03-28T09:16:21.229775Z",
     "shell.execute_reply": "2023-03-28T09:16:21.228168Z"
    },
    "papermill": {
     "duration": 0.031407,
     "end_time": "2023-03-28T09:16:21.232584",
     "exception": false,
     "start_time": "2023-03-28T09:16:21.201177",
     "status": "completed"
    },
    "tags": []
   },
   "outputs": [
    {
     "data": {
      "application/javascript": [
       "parent.postMessage({\"jupyterEvent\": \"custom.exercise_interaction\", \"data\": {\"outcomeType\": 1, \"valueTowardsCompletion\": 0.16666666666666666, \"interactionType\": 1, \"questionType\": 2, \"questionId\": \"5_SaveAnimalsCsv\", \"learnToolsVersion\": \"0.3.4\", \"failureMessage\": \"\", \"exceptionClass\": \"\", \"trace\": \"\"}}, \"*\")"
      ],
      "text/plain": [
       "<IPython.core.display.Javascript object>"
      ]
     },
     "metadata": {},
     "output_type": "display_data"
    },
    {
     "data": {
      "text/markdown": [
       "<span style=\"color:#33cc33\">Correct</span>"
      ],
      "text/plain": [
       "Correct"
      ]
     },
     "metadata": {},
     "output_type": "display_data"
    }
   ],
   "source": [
    "# Your code goes here\n",
    "import pandas as pd\n",
    "animals.to_csv('cows_and_goats.csv')\n",
    "q5.check()\n",
    "\n",
    "# Check your answer\n"
   ]
  },
  {
   "cell_type": "code",
   "execution_count": 12,
   "id": "2d957f7e",
   "metadata": {
    "execution": {
     "iopub.execute_input": "2023-03-28T09:16:21.250244Z",
     "iopub.status.busy": "2023-03-28T09:16:21.249787Z",
     "iopub.status.idle": "2023-03-28T09:16:21.255011Z",
     "shell.execute_reply": "2023-03-28T09:16:21.253541Z"
    },
    "papermill": {
     "duration": 0.017243,
     "end_time": "2023-03-28T09:16:21.257779",
     "exception": false,
     "start_time": "2023-03-28T09:16:21.240536",
     "status": "completed"
    },
    "tags": []
   },
   "outputs": [],
   "source": [
    "#q5.hint()\n",
    "#q5.solution()"
   ]
  },
  {
   "cell_type": "markdown",
   "id": "ff28f34e",
   "metadata": {
    "papermill": {
     "duration": 0.007489,
     "end_time": "2023-03-28T09:16:21.273658",
     "exception": false,
     "start_time": "2023-03-28T09:16:21.266169",
     "status": "completed"
    },
    "tags": []
   },
   "source": []
  },
  {
   "cell_type": "markdown",
   "id": "f9fba995",
   "metadata": {
    "papermill": {
     "duration": 0.007424,
     "end_time": "2023-03-28T09:16:21.289861",
     "exception": false,
     "start_time": "2023-03-28T09:16:21.282437",
     "status": "completed"
    },
    "tags": []
   },
   "source": [
    "# Keep going\n",
    "\n",
    "Move on to learn about **[indexing, selecting and assigning](https://www.kaggle.com/residentmario/indexing-selecting-assigning)**."
   ]
  },
  {
   "cell_type": "markdown",
   "id": "02d3d4cd",
   "metadata": {
    "papermill": {
     "duration": 0.00743,
     "end_time": "2023-03-28T09:16:21.305095",
     "exception": false,
     "start_time": "2023-03-28T09:16:21.297665",
     "status": "completed"
    },
    "tags": []
   },
   "source": [
    "---\n",
    "\n",
    "\n",
    "\n",
    "\n",
    "*Have questions or comments? Visit the [course discussion forum](https://www.kaggle.com/learn/pandas/discussion) to chat with other learners.*"
   ]
  }
 ],
 "metadata": {
  "kernelspec": {
   "display_name": "Python 3",
   "language": "python",
   "name": "python3"
  },
  "language_info": {
   "codemirror_mode": {
    "name": "ipython",
    "version": 3
   },
   "file_extension": ".py",
   "mimetype": "text/x-python",
   "name": "python",
   "nbconvert_exporter": "python",
   "pygments_lexer": "ipython3",
   "version": "3.7.12"
  },
  "papermill": {
   "default_parameters": {},
   "duration": 15.695153,
   "end_time": "2023-03-28T09:16:22.136921",
   "environment_variables": {},
   "exception": null,
   "input_path": "__notebook__.ipynb",
   "output_path": "__notebook__.ipynb",
   "parameters": {},
   "start_time": "2023-03-28T09:16:06.441768",
   "version": "2.4.0"
  }
 },
 "nbformat": 4,
 "nbformat_minor": 5
}
