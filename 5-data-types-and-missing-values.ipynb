{
 "cells": [
  {
   "cell_type": "markdown",
   "id": "324edcf2",
   "metadata": {
    "papermill": {
     "duration": 0.00517,
     "end_time": "2023-03-28T09:36:02.016974",
     "exception": false,
     "start_time": "2023-03-28T09:36:02.011804",
     "status": "completed"
    },
    "tags": []
   },
   "source": [
    "**This notebook is an exercise in the [Pandas](https://www.kaggle.com/learn/pandas) course.  You can reference the tutorial at [this link](https://www.kaggle.com/residentmario/data-types-and-missing-values).**\n",
    "\n",
    "---\n"
   ]
  },
  {
   "cell_type": "markdown",
   "id": "a19ec5e1",
   "metadata": {
    "papermill": {
     "duration": 0.003755,
     "end_time": "2023-03-28T09:36:02.025007",
     "exception": false,
     "start_time": "2023-03-28T09:36:02.021252",
     "status": "completed"
    },
    "tags": []
   },
   "source": [
    "# Introduction\n",
    "\n",
    "Run the following cell to load your data and some utility functions."
   ]
  },
  {
   "cell_type": "code",
   "execution_count": 1,
   "id": "996e8970",
   "metadata": {
    "execution": {
     "iopub.execute_input": "2023-03-28T09:36:02.036699Z",
     "iopub.status.busy": "2023-03-28T09:36:02.035333Z",
     "iopub.status.idle": "2023-03-28T09:36:05.088300Z",
     "shell.execute_reply": "2023-03-28T09:36:05.086763Z"
    },
    "papermill": {
     "duration": 3.06227,
     "end_time": "2023-03-28T09:36:05.091408",
     "exception": false,
     "start_time": "2023-03-28T09:36:02.029138",
     "status": "completed"
    },
    "tags": []
   },
   "outputs": [
    {
     "name": "stdout",
     "output_type": "stream",
     "text": [
      "Setup complete.\n"
     ]
    }
   ],
   "source": [
    "import pandas as pd\n",
    "\n",
    "reviews = pd.read_csv(\"../input/wine-reviews/winemag-data-130k-v2.csv\", index_col=0)\n",
    "\n",
    "from learntools.core import binder; binder.bind(globals())\n",
    "from learntools.pandas.data_types_and_missing_data import *\n",
    "print(\"Setup complete.\")"
   ]
  },
  {
   "cell_type": "markdown",
   "id": "fda645ef",
   "metadata": {
    "papermill": {
     "duration": 0.003944,
     "end_time": "2023-03-28T09:36:05.099756",
     "exception": false,
     "start_time": "2023-03-28T09:36:05.095812",
     "status": "completed"
    },
    "tags": []
   },
   "source": [
    "# Exercises"
   ]
  },
  {
   "cell_type": "markdown",
   "id": "aaa7f0f6",
   "metadata": {
    "papermill": {
     "duration": 0.003961,
     "end_time": "2023-03-28T09:36:05.107894",
     "exception": false,
     "start_time": "2023-03-28T09:36:05.103933",
     "status": "completed"
    },
    "tags": []
   },
   "source": [
    "## 1. \n",
    "What is the data type of the `points` column in the dataset?"
   ]
  },
  {
   "cell_type": "code",
   "execution_count": 2,
   "id": "af901144",
   "metadata": {
    "execution": {
     "iopub.execute_input": "2023-03-28T09:36:05.119055Z",
     "iopub.status.busy": "2023-03-28T09:36:05.117825Z",
     "iopub.status.idle": "2023-03-28T09:36:06.176934Z",
     "shell.execute_reply": "2023-03-28T09:36:06.175367Z"
    },
    "papermill": {
     "duration": 1.067782,
     "end_time": "2023-03-28T09:36:06.179881",
     "exception": false,
     "start_time": "2023-03-28T09:36:05.112099",
     "status": "completed"
    },
    "tags": []
   },
   "outputs": [
    {
     "data": {
      "text/plain": [
       "dtype('int64')"
      ]
     },
     "execution_count": 2,
     "metadata": {},
     "output_type": "execute_result"
    }
   ],
   "source": [
    "# Your code here\n",
    "import pandas as pd\n",
    "\n",
    "reviews = pd.read_csv(\"../input/wine-reviews/winemag-data-130k-v2.csv\", index_col=0)\n",
    "dtype = reviews.points.dtype\n",
    "\n",
    "# Check your answer\n",
    "#q1.check()\n",
    "dtype"
   ]
  },
  {
   "cell_type": "code",
   "execution_count": 3,
   "id": "6a6d855e",
   "metadata": {
    "execution": {
     "iopub.execute_input": "2023-03-28T09:36:06.190459Z",
     "iopub.status.busy": "2023-03-28T09:36:06.190034Z",
     "iopub.status.idle": "2023-03-28T09:36:06.195277Z",
     "shell.execute_reply": "2023-03-28T09:36:06.194030Z"
    },
    "papermill": {
     "duration": 0.013547,
     "end_time": "2023-03-28T09:36:06.197843",
     "exception": false,
     "start_time": "2023-03-28T09:36:06.184296",
     "status": "completed"
    },
    "tags": []
   },
   "outputs": [],
   "source": [
    "#q1.hint()\n",
    "#q1.solution()"
   ]
  },
  {
   "cell_type": "markdown",
   "id": "35f203de",
   "metadata": {
    "papermill": {
     "duration": 0.00397,
     "end_time": "2023-03-28T09:36:06.206160",
     "exception": false,
     "start_time": "2023-03-28T09:36:06.202190",
     "status": "completed"
    },
    "tags": []
   },
   "source": [
    "## 2. \n",
    "Create a Series from entries in the `points` column, but convert the entries to strings. Hint: strings are `str` in native Python."
   ]
  },
  {
   "cell_type": "code",
   "execution_count": 4,
   "id": "8d94b9b3",
   "metadata": {
    "execution": {
     "iopub.execute_input": "2023-03-28T09:36:06.216630Z",
     "iopub.status.busy": "2023-03-28T09:36:06.216164Z",
     "iopub.status.idle": "2023-03-28T09:36:06.226093Z",
     "shell.execute_reply": "2023-03-28T09:36:06.224828Z"
    },
    "papermill": {
     "duration": 0.017953,
     "end_time": "2023-03-28T09:36:06.228337",
     "exception": false,
     "start_time": "2023-03-28T09:36:06.210384",
     "status": "completed"
    },
    "tags": []
   },
   "outputs": [
    {
     "data": {
      "application/javascript": [
       "parent.postMessage({\"jupyterEvent\": \"custom.exercise_interaction\", \"data\": {\"outcomeType\": 4, \"interactionType\": 1, \"questionType\": 1, \"questionId\": \"2_StrPoints\", \"learnToolsVersion\": \"0.3.4\", \"valueTowardsCompletion\": 0.0, \"failureMessage\": \"\", \"exceptionClass\": \"\", \"trace\": \"\"}}, \"*\")"
      ],
      "text/plain": [
       "<IPython.core.display.Javascript object>"
      ]
     },
     "metadata": {},
     "output_type": "display_data"
    },
    {
     "data": {
      "text/markdown": [
       "<span style=\"color:#ccaa33\">Check:</span> When you've updated the starter code, `check()` will tell you whether your code is correct. You need to update the code that creates variable `point_strings`"
      ],
      "text/plain": [
       "Check: When you've updated the starter code, `check()` will tell you whether your code is correct. You need to update the code that creates variable `point_strings`"
      ]
     },
     "metadata": {},
     "output_type": "display_data"
    }
   ],
   "source": [
    "point_strings = ____\n",
    "\n",
    "# Check your answer\n",
    "q2.check()"
   ]
  },
  {
   "cell_type": "code",
   "execution_count": 5,
   "id": "3ca48275",
   "metadata": {
    "execution": {
     "iopub.execute_input": "2023-03-28T09:36:06.239478Z",
     "iopub.status.busy": "2023-03-28T09:36:06.239036Z",
     "iopub.status.idle": "2023-03-28T09:36:06.243801Z",
     "shell.execute_reply": "2023-03-28T09:36:06.242760Z"
    },
    "papermill": {
     "duration": 0.013016,
     "end_time": "2023-03-28T09:36:06.246079",
     "exception": false,
     "start_time": "2023-03-28T09:36:06.233063",
     "status": "completed"
    },
    "tags": []
   },
   "outputs": [],
   "source": [
    "#q2.hint()\n",
    "#q2.solution()"
   ]
  },
  {
   "cell_type": "markdown",
   "id": "29cb50ee",
   "metadata": {
    "papermill": {
     "duration": 0.004456,
     "end_time": "2023-03-28T09:36:06.255374",
     "exception": false,
     "start_time": "2023-03-28T09:36:06.250918",
     "status": "completed"
    },
    "tags": []
   },
   "source": [
    "## 3.\n",
    "Sometimes the price column is null. How many reviews in the dataset are missing a price?"
   ]
  },
  {
   "cell_type": "code",
   "execution_count": 6,
   "id": "2d5683df",
   "metadata": {
    "execution": {
     "iopub.execute_input": "2023-03-28T09:36:06.267364Z",
     "iopub.status.busy": "2023-03-28T09:36:06.266410Z",
     "iopub.status.idle": "2023-03-28T09:36:06.275891Z",
     "shell.execute_reply": "2023-03-28T09:36:06.274330Z"
    },
    "papermill": {
     "duration": 0.018276,
     "end_time": "2023-03-28T09:36:06.278431",
     "exception": false,
     "start_time": "2023-03-28T09:36:06.260155",
     "status": "completed"
    },
    "tags": []
   },
   "outputs": [
    {
     "data": {
      "application/javascript": [
       "parent.postMessage({\"jupyterEvent\": \"custom.exercise_interaction\", \"data\": {\"outcomeType\": 4, \"interactionType\": 1, \"questionType\": 1, \"questionId\": \"3_CountMissingPrices\", \"learnToolsVersion\": \"0.3.4\", \"valueTowardsCompletion\": 0.0, \"failureMessage\": \"\", \"exceptionClass\": \"\", \"trace\": \"\"}}, \"*\")"
      ],
      "text/plain": [
       "<IPython.core.display.Javascript object>"
      ]
     },
     "metadata": {},
     "output_type": "display_data"
    },
    {
     "data": {
      "text/markdown": [
       "<span style=\"color:#ccaa33\">Check:</span> When you've updated the starter code, `check()` will tell you whether your code is correct. You need to update the code that creates variable `n_missing_prices`"
      ],
      "text/plain": [
       "Check: When you've updated the starter code, `check()` will tell you whether your code is correct. You need to update the code that creates variable `n_missing_prices`"
      ]
     },
     "metadata": {},
     "output_type": "display_data"
    }
   ],
   "source": [
    "n_missing_prices = ____\n",
    "\n",
    "# Check your answer\n",
    "q3.check()"
   ]
  },
  {
   "cell_type": "code",
   "execution_count": 7,
   "id": "7c1e6477",
   "metadata": {
    "execution": {
     "iopub.execute_input": "2023-03-28T09:36:06.290973Z",
     "iopub.status.busy": "2023-03-28T09:36:06.290516Z",
     "iopub.status.idle": "2023-03-28T09:36:06.295193Z",
     "shell.execute_reply": "2023-03-28T09:36:06.294117Z"
    },
    "papermill": {
     "duration": 0.013546,
     "end_time": "2023-03-28T09:36:06.297388",
     "exception": false,
     "start_time": "2023-03-28T09:36:06.283842",
     "status": "completed"
    },
    "tags": []
   },
   "outputs": [],
   "source": [
    "#q3.hint()\n",
    "#q3.solution()"
   ]
  },
  {
   "cell_type": "markdown",
   "id": "0c73b3a2",
   "metadata": {
    "papermill": {
     "duration": 0.004696,
     "end_time": "2023-03-28T09:36:06.307224",
     "exception": false,
     "start_time": "2023-03-28T09:36:06.302528",
     "status": "completed"
    },
    "tags": []
   },
   "source": [
    "## 4.\n",
    "What are the most common wine-producing regions? Create a Series counting the number of times each value occurs in the `region_1` field. This field is often missing data, so replace missing values with `Unknown`. Sort in descending order.  Your output should look something like this:\n",
    "\n",
    "```\n",
    "Unknown                    21247\n",
    "Napa Valley                 4480\n",
    "                           ...  \n",
    "Bardolino Superiore            1\n",
    "Primitivo del Tarantino        1\n",
    "Name: region_1, Length: 1230, dtype: int64\n",
    "```"
   ]
  },
  {
   "cell_type": "code",
   "execution_count": 8,
   "id": "32d5b7c8",
   "metadata": {
    "execution": {
     "iopub.execute_input": "2023-03-28T09:36:06.319015Z",
     "iopub.status.busy": "2023-03-28T09:36:06.318544Z",
     "iopub.status.idle": "2023-03-28T09:36:06.327848Z",
     "shell.execute_reply": "2023-03-28T09:36:06.326604Z"
    },
    "papermill": {
     "duration": 0.017975,
     "end_time": "2023-03-28T09:36:06.330147",
     "exception": false,
     "start_time": "2023-03-28T09:36:06.312172",
     "status": "completed"
    },
    "tags": []
   },
   "outputs": [
    {
     "data": {
      "application/javascript": [
       "parent.postMessage({\"jupyterEvent\": \"custom.exercise_interaction\", \"data\": {\"outcomeType\": 4, \"interactionType\": 1, \"questionType\": 2, \"questionId\": \"4_ReviewsPerRegion\", \"learnToolsVersion\": \"0.3.4\", \"valueTowardsCompletion\": 0.0, \"failureMessage\": \"\", \"exceptionClass\": \"\", \"trace\": \"\"}}, \"*\")"
      ],
      "text/plain": [
       "<IPython.core.display.Javascript object>"
      ]
     },
     "metadata": {},
     "output_type": "display_data"
    },
    {
     "data": {
      "text/markdown": [
       "<span style=\"color:#ccaa33\">Check:</span> When you've updated the starter code, `check()` will tell you whether your code is correct. You need to update the code that creates variable `reviews_per_region`"
      ],
      "text/plain": [
       "Check: When you've updated the starter code, `check()` will tell you whether your code is correct. You need to update the code that creates variable `reviews_per_region`"
      ]
     },
     "metadata": {},
     "output_type": "display_data"
    }
   ],
   "source": [
    "reviews_per_region = ____\n",
    "\n",
    "# Check your answer\n",
    "q4.check()"
   ]
  },
  {
   "cell_type": "code",
   "execution_count": 9,
   "id": "d72a506c",
   "metadata": {
    "execution": {
     "iopub.execute_input": "2023-03-28T09:36:06.342520Z",
     "iopub.status.busy": "2023-03-28T09:36:06.342083Z",
     "iopub.status.idle": "2023-03-28T09:36:06.347400Z",
     "shell.execute_reply": "2023-03-28T09:36:06.346113Z"
    },
    "papermill": {
     "duration": 0.014721,
     "end_time": "2023-03-28T09:36:06.350079",
     "exception": false,
     "start_time": "2023-03-28T09:36:06.335358",
     "status": "completed"
    },
    "tags": []
   },
   "outputs": [],
   "source": [
    "#q4.hint()\n",
    "#q4.solution()"
   ]
  },
  {
   "cell_type": "markdown",
   "id": "dfbb95f8",
   "metadata": {
    "papermill": {
     "duration": 0.005088,
     "end_time": "2023-03-28T09:36:06.360777",
     "exception": false,
     "start_time": "2023-03-28T09:36:06.355689",
     "status": "completed"
    },
    "tags": []
   },
   "source": [
    "# Keep going\n",
    "\n",
    "Move on to **[renaming and combining](https://www.kaggle.com/residentmario/renaming-and-combining)**."
   ]
  },
  {
   "cell_type": "markdown",
   "id": "7906ed07",
   "metadata": {
    "papermill": {
     "duration": 0.005029,
     "end_time": "2023-03-28T09:36:06.371127",
     "exception": false,
     "start_time": "2023-03-28T09:36:06.366098",
     "status": "completed"
    },
    "tags": []
   },
   "source": [
    "---\n",
    "\n",
    "\n",
    "\n",
    "\n",
    "*Have questions or comments? Visit the [course discussion forum](https://www.kaggle.com/learn/pandas/discussion) to chat with other learners.*"
   ]
  }
 ],
 "metadata": {
  "kernelspec": {
   "display_name": "Python 3",
   "language": "python",
   "name": "python3"
  },
  "language_info": {
   "codemirror_mode": {
    "name": "ipython",
    "version": 3
   },
   "file_extension": ".py",
   "mimetype": "text/x-python",
   "name": "python",
   "nbconvert_exporter": "python",
   "pygments_lexer": "ipython3",
   "version": "3.7.12"
  },
  "papermill": {
   "default_parameters": {},
   "duration": 16.034191,
   "end_time": "2023-03-28T09:36:07.099385",
   "environment_variables": {},
   "exception": null,
   "input_path": "__notebook__.ipynb",
   "output_path": "__notebook__.ipynb",
   "parameters": {},
   "start_time": "2023-03-28T09:35:51.065194",
   "version": "2.4.0"
  }
 },
 "nbformat": 4,
 "nbformat_minor": 5
}
